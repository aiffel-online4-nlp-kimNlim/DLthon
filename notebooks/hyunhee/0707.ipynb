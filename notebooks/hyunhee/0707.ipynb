{
 "cells": [
  {
   "cell_type": "markdown",
   "id": "56c76154",
   "metadata": {},
   "source": [
    "# DLthone _ AIFFEL Online 4th_ TEAM L&K"
   ]
  },
  {
   "cell_type": "code",
   "execution_count": 3,
   "id": "8f91cbc6",
   "metadata": {},
   "outputs": [
    {
     "data": {
      "text/html": [
       "<div>\n",
       "<style scoped>\n",
       "    .dataframe tbody tr th:only-of-type {\n",
       "        vertical-align: middle;\n",
       "    }\n",
       "\n",
       "    .dataframe tbody tr th {\n",
       "        vertical-align: top;\n",
       "    }\n",
       "\n",
       "    .dataframe thead th {\n",
       "        text-align: right;\n",
       "    }\n",
       "</style>\n",
       "<table border=\"1\" class=\"dataframe\">\n",
       "  <thead>\n",
       "    <tr style=\"text-align: right;\">\n",
       "      <th></th>\n",
       "      <th>idx</th>\n",
       "      <th>class</th>\n",
       "      <th>conversation</th>\n",
       "    </tr>\n",
       "  </thead>\n",
       "  <tbody>\n",
       "    <tr>\n",
       "      <th>0</th>\n",
       "      <td>0</td>\n",
       "      <td>협박 대화</td>\n",
       "      <td>지금 너 스스로를 죽여달라고 애원하는 것인가?\\n 아닙니다. 죄송합니다.\\n 죽을 ...</td>\n",
       "    </tr>\n",
       "    <tr>\n",
       "      <th>1</th>\n",
       "      <td>1</td>\n",
       "      <td>협박 대화</td>\n",
       "      <td>길동경찰서입니다.\\n9시 40분 마트에 폭발물을 설치할거다.\\n네?\\n똑바로 들어 ...</td>\n",
       "    </tr>\n",
       "    <tr>\n",
       "      <th>2</th>\n",
       "      <td>2</td>\n",
       "      <td>기타 괴롭힘 대화</td>\n",
       "      <td>너 되게 귀여운거 알지? 나보다 작은 남자는 첨봤어.\\n그만해. 니들 놀리는거 재미...</td>\n",
       "    </tr>\n",
       "    <tr>\n",
       "      <th>3</th>\n",
       "      <td>3</td>\n",
       "      <td>갈취 대화</td>\n",
       "      <td>어이 거기\\n예??\\n너 말이야 너. 이리 오라고\\n무슨 일.\\n너 옷 좋아보인다?...</td>\n",
       "    </tr>\n",
       "    <tr>\n",
       "      <th>4</th>\n",
       "      <td>4</td>\n",
       "      <td>갈취 대화</td>\n",
       "      <td>저기요 혹시 날이 너무 뜨겁잖아요? 저희 회사에서 이 선크림 파는데 한 번 손등에 ...</td>\n",
       "    </tr>\n",
       "  </tbody>\n",
       "</table>\n",
       "</div>"
      ],
      "text/plain": [
       "   idx      class                                       conversation\n",
       "0    0      협박 대화  지금 너 스스로를 죽여달라고 애원하는 것인가?\\n 아닙니다. 죄송합니다.\\n 죽을 ...\n",
       "1    1      협박 대화  길동경찰서입니다.\\n9시 40분 마트에 폭발물을 설치할거다.\\n네?\\n똑바로 들어 ...\n",
       "2    2  기타 괴롭힘 대화  너 되게 귀여운거 알지? 나보다 작은 남자는 첨봤어.\\n그만해. 니들 놀리는거 재미...\n",
       "3    3      갈취 대화  어이 거기\\n예??\\n너 말이야 너. 이리 오라고\\n무슨 일.\\n너 옷 좋아보인다?...\n",
       "4    4      갈취 대화  저기요 혹시 날이 너무 뜨겁잖아요? 저희 회사에서 이 선크림 파는데 한 번 손등에 ..."
      ]
     },
     "execution_count": 3,
     "metadata": {},
     "output_type": "execute_result"
    }
   ],
   "source": [
    "import pandas as pd\n",
    "\n",
    "df = pd.read_csv('~/aiffel/DLthone/train.csv')\n",
    "\n",
    "df.head()"
   ]
  },
  {
   "cell_type": "code",
   "execution_count": 4,
   "id": "f43ffc22",
   "metadata": {},
   "outputs": [
    {
     "data": {
      "text/plain": [
       "3950"
      ]
     },
     "execution_count": 4,
     "metadata": {},
     "output_type": "execute_result"
    }
   ],
   "source": [
    "len(df)"
   ]
  },
  {
   "cell_type": "code",
   "execution_count": 5,
   "id": "8e4c0e11",
   "metadata": {},
   "outputs": [
    {
     "data": {
      "text/plain": [
       "3950"
      ]
     },
     "execution_count": 5,
     "metadata": {},
     "output_type": "execute_result"
    }
   ],
   "source": [
    "df.dropna(axis=0, inplace=True)\n",
    "\n",
    "len(df)"
   ]
  },
  {
   "cell_type": "code",
   "execution_count": 6,
   "id": "814299a9",
   "metadata": {},
   "outputs": [],
   "source": [
    "import re\n",
    "\n",
    "def preprocess_sentence(sentence):\n",
    "    \n",
    "    sentence = sentence.lower().strip()\n",
    "    sentence = re.sub(r\"([?.!,])\", r\" \\1 \", sentence)\n",
    "    sentence = re.sub(r'[\" \"]+', \" \", sentence)\n",
    "    sentence = re.sub(r\"[^a-zA-Z?.!가-힣ㄱ-ㅎㅏ-ㅣ]+\", \" \", sentence)\n",
    "    sentence = sentence.strip()\n",
    "    \n",
    "    return sentence"
   ]
  },
  {
   "cell_type": "code",
   "execution_count": 7,
   "id": "b542df53",
   "metadata": {
    "scrolled": true
   },
   "outputs": [
    {
     "data": {
      "text/html": [
       "<div>\n",
       "<style scoped>\n",
       "    .dataframe tbody tr th:only-of-type {\n",
       "        vertical-align: middle;\n",
       "    }\n",
       "\n",
       "    .dataframe tbody tr th {\n",
       "        vertical-align: top;\n",
       "    }\n",
       "\n",
       "    .dataframe thead th {\n",
       "        text-align: right;\n",
       "    }\n",
       "</style>\n",
       "<table border=\"1\" class=\"dataframe\">\n",
       "  <thead>\n",
       "    <tr style=\"text-align: right;\">\n",
       "      <th></th>\n",
       "      <th>idx</th>\n",
       "      <th>class</th>\n",
       "      <th>conversation</th>\n",
       "      <th>data</th>\n",
       "    </tr>\n",
       "  </thead>\n",
       "  <tbody>\n",
       "    <tr>\n",
       "      <th>0</th>\n",
       "      <td>0</td>\n",
       "      <td>협박 대화</td>\n",
       "      <td>지금 너 스스로를 죽여달라고 애원하는 것인가?\\n 아닙니다. 죄송합니다.\\n 죽을 ...</td>\n",
       "      <td>지금 너 스스로를 죽여달라고 애원하는 것인가 ? 아닙니다 . 죄송합니다 . 죽을 거...</td>\n",
       "    </tr>\n",
       "    <tr>\n",
       "      <th>1</th>\n",
       "      <td>1</td>\n",
       "      <td>협박 대화</td>\n",
       "      <td>길동경찰서입니다.\\n9시 40분 마트에 폭발물을 설치할거다.\\n네?\\n똑바로 들어 ...</td>\n",
       "      <td>길동경찰서입니다 . 시 분 마트에 폭발물을 설치할거다 . 네 ? 똑바로 들어 한번만...</td>\n",
       "    </tr>\n",
       "    <tr>\n",
       "      <th>2</th>\n",
       "      <td>2</td>\n",
       "      <td>기타 괴롭힘 대화</td>\n",
       "      <td>너 되게 귀여운거 알지? 나보다 작은 남자는 첨봤어.\\n그만해. 니들 놀리는거 재미...</td>\n",
       "      <td>너 되게 귀여운거 알지 ? 나보다 작은 남자는 첨봤어 . 그만해 . 니들 놀리는거 ...</td>\n",
       "    </tr>\n",
       "    <tr>\n",
       "      <th>3</th>\n",
       "      <td>3</td>\n",
       "      <td>갈취 대화</td>\n",
       "      <td>어이 거기\\n예??\\n너 말이야 너. 이리 오라고\\n무슨 일.\\n너 옷 좋아보인다?...</td>\n",
       "      <td>어이 거기 예 ? ? 너 말이야 너 . 이리 오라고 무슨 일 . 너 옷 좋아보인다 ...</td>\n",
       "    </tr>\n",
       "    <tr>\n",
       "      <th>4</th>\n",
       "      <td>4</td>\n",
       "      <td>갈취 대화</td>\n",
       "      <td>저기요 혹시 날이 너무 뜨겁잖아요? 저희 회사에서 이 선크림 파는데 한 번 손등에 ...</td>\n",
       "      <td>저기요 혹시 날이 너무 뜨겁잖아요 ? 저희 회사에서 이 선크림 파는데 한 번 손등에...</td>\n",
       "    </tr>\n",
       "  </tbody>\n",
       "</table>\n",
       "</div>"
      ],
      "text/plain": [
       "   idx      class                                       conversation  \\\n",
       "0    0      협박 대화  지금 너 스스로를 죽여달라고 애원하는 것인가?\\n 아닙니다. 죄송합니다.\\n 죽을 ...   \n",
       "1    1      협박 대화  길동경찰서입니다.\\n9시 40분 마트에 폭발물을 설치할거다.\\n네?\\n똑바로 들어 ...   \n",
       "2    2  기타 괴롭힘 대화  너 되게 귀여운거 알지? 나보다 작은 남자는 첨봤어.\\n그만해. 니들 놀리는거 재미...   \n",
       "3    3      갈취 대화  어이 거기\\n예??\\n너 말이야 너. 이리 오라고\\n무슨 일.\\n너 옷 좋아보인다?...   \n",
       "4    4      갈취 대화  저기요 혹시 날이 너무 뜨겁잖아요? 저희 회사에서 이 선크림 파는데 한 번 손등에 ...   \n",
       "\n",
       "                                                data  \n",
       "0  지금 너 스스로를 죽여달라고 애원하는 것인가 ? 아닙니다 . 죄송합니다 . 죽을 거...  \n",
       "1  길동경찰서입니다 . 시 분 마트에 폭발물을 설치할거다 . 네 ? 똑바로 들어 한번만...  \n",
       "2  너 되게 귀여운거 알지 ? 나보다 작은 남자는 첨봤어 . 그만해 . 니들 놀리는거 ...  \n",
       "3  어이 거기 예 ? ? 너 말이야 너 . 이리 오라고 무슨 일 . 너 옷 좋아보인다 ...  \n",
       "4  저기요 혹시 날이 너무 뜨겁잖아요 ? 저희 회사에서 이 선크림 파는데 한 번 손등에...  "
      ]
     },
     "execution_count": 7,
     "metadata": {},
     "output_type": "execute_result"
    }
   ],
   "source": [
    "df['data'] = df['conversation'].apply(lambda it : preprocess_sentence(it))\n",
    "\n",
    "df.head()"
   ]
  },
  {
   "cell_type": "markdown",
   "id": "9ce5e410",
   "metadata": {},
   "source": [
    "## Basic Information\n",
    " \n",
    "|클래스|Class No.|# Training|# Test |\n",
    "|:----:|:------:|:------:|:------------:|\n",
    "|협박 |00| 896    | 100   |\n",
    "|갈취  |01|981     | 100 |\n",
    "|직장 내 괴롭힘  |02|979     |100|\n",
    "|기타 괴롭힘 |03|1,094      |100|\n",
    "|일반 |04| - |"
   ]
  },
  {
   "cell_type": "code",
   "execution_count": 8,
   "id": "9ac3d7a1",
   "metadata": {},
   "outputs": [],
   "source": [
    "def check_class(it):\n",
    "    if '협박' in it:\n",
    "        return 0\n",
    "    elif '갈취' in it:\n",
    "        return 1\n",
    "    elif '직장 내 괴롭힘' in it:\n",
    "        return 2\n",
    "    elif '기타 괴롭힘' in it:\n",
    "        return 3\n",
    "    else:\n",
    "        return 4"
   ]
  },
  {
   "cell_type": "code",
   "execution_count": 9,
   "id": "61fd6158",
   "metadata": {},
   "outputs": [
    {
     "data": {
      "text/html": [
       "<div>\n",
       "<style scoped>\n",
       "    .dataframe tbody tr th:only-of-type {\n",
       "        vertical-align: middle;\n",
       "    }\n",
       "\n",
       "    .dataframe tbody tr th {\n",
       "        vertical-align: top;\n",
       "    }\n",
       "\n",
       "    .dataframe thead th {\n",
       "        text-align: right;\n",
       "    }\n",
       "</style>\n",
       "<table border=\"1\" class=\"dataframe\">\n",
       "  <thead>\n",
       "    <tr style=\"text-align: right;\">\n",
       "      <th></th>\n",
       "      <th>idx</th>\n",
       "      <th>class</th>\n",
       "      <th>conversation</th>\n",
       "      <th>data</th>\n",
       "      <th>label</th>\n",
       "    </tr>\n",
       "  </thead>\n",
       "  <tbody>\n",
       "    <tr>\n",
       "      <th>0</th>\n",
       "      <td>0</td>\n",
       "      <td>협박 대화</td>\n",
       "      <td>지금 너 스스로를 죽여달라고 애원하는 것인가?\\n 아닙니다. 죄송합니다.\\n 죽을 ...</td>\n",
       "      <td>지금 너 스스로를 죽여달라고 애원하는 것인가 ? 아닙니다 . 죄송합니다 . 죽을 거...</td>\n",
       "      <td>0</td>\n",
       "    </tr>\n",
       "    <tr>\n",
       "      <th>1</th>\n",
       "      <td>1</td>\n",
       "      <td>협박 대화</td>\n",
       "      <td>길동경찰서입니다.\\n9시 40분 마트에 폭발물을 설치할거다.\\n네?\\n똑바로 들어 ...</td>\n",
       "      <td>길동경찰서입니다 . 시 분 마트에 폭발물을 설치할거다 . 네 ? 똑바로 들어 한번만...</td>\n",
       "      <td>0</td>\n",
       "    </tr>\n",
       "    <tr>\n",
       "      <th>2</th>\n",
       "      <td>2</td>\n",
       "      <td>기타 괴롭힘 대화</td>\n",
       "      <td>너 되게 귀여운거 알지? 나보다 작은 남자는 첨봤어.\\n그만해. 니들 놀리는거 재미...</td>\n",
       "      <td>너 되게 귀여운거 알지 ? 나보다 작은 남자는 첨봤어 . 그만해 . 니들 놀리는거 ...</td>\n",
       "      <td>3</td>\n",
       "    </tr>\n",
       "    <tr>\n",
       "      <th>3</th>\n",
       "      <td>3</td>\n",
       "      <td>갈취 대화</td>\n",
       "      <td>어이 거기\\n예??\\n너 말이야 너. 이리 오라고\\n무슨 일.\\n너 옷 좋아보인다?...</td>\n",
       "      <td>어이 거기 예 ? ? 너 말이야 너 . 이리 오라고 무슨 일 . 너 옷 좋아보인다 ...</td>\n",
       "      <td>1</td>\n",
       "    </tr>\n",
       "    <tr>\n",
       "      <th>4</th>\n",
       "      <td>4</td>\n",
       "      <td>갈취 대화</td>\n",
       "      <td>저기요 혹시 날이 너무 뜨겁잖아요? 저희 회사에서 이 선크림 파는데 한 번 손등에 ...</td>\n",
       "      <td>저기요 혹시 날이 너무 뜨겁잖아요 ? 저희 회사에서 이 선크림 파는데 한 번 손등에...</td>\n",
       "      <td>1</td>\n",
       "    </tr>\n",
       "  </tbody>\n",
       "</table>\n",
       "</div>"
      ],
      "text/plain": [
       "   idx      class                                       conversation  \\\n",
       "0    0      협박 대화  지금 너 스스로를 죽여달라고 애원하는 것인가?\\n 아닙니다. 죄송합니다.\\n 죽을 ...   \n",
       "1    1      협박 대화  길동경찰서입니다.\\n9시 40분 마트에 폭발물을 설치할거다.\\n네?\\n똑바로 들어 ...   \n",
       "2    2  기타 괴롭힘 대화  너 되게 귀여운거 알지? 나보다 작은 남자는 첨봤어.\\n그만해. 니들 놀리는거 재미...   \n",
       "3    3      갈취 대화  어이 거기\\n예??\\n너 말이야 너. 이리 오라고\\n무슨 일.\\n너 옷 좋아보인다?...   \n",
       "4    4      갈취 대화  저기요 혹시 날이 너무 뜨겁잖아요? 저희 회사에서 이 선크림 파는데 한 번 손등에 ...   \n",
       "\n",
       "                                                data  label  \n",
       "0  지금 너 스스로를 죽여달라고 애원하는 것인가 ? 아닙니다 . 죄송합니다 . 죽을 거...      0  \n",
       "1  길동경찰서입니다 . 시 분 마트에 폭발물을 설치할거다 . 네 ? 똑바로 들어 한번만...      0  \n",
       "2  너 되게 귀여운거 알지 ? 나보다 작은 남자는 첨봤어 . 그만해 . 니들 놀리는거 ...      3  \n",
       "3  어이 거기 예 ? ? 너 말이야 너 . 이리 오라고 무슨 일 . 너 옷 좋아보인다 ...      1  \n",
       "4  저기요 혹시 날이 너무 뜨겁잖아요 ? 저희 회사에서 이 선크림 파는데 한 번 손등에...      1  "
      ]
     },
     "execution_count": 9,
     "metadata": {},
     "output_type": "execute_result"
    }
   ],
   "source": [
    "df['label'] = df['class'].apply(lambda it: check_class(it))\n",
    "\n",
    "df.head()"
   ]
  },
  {
   "cell_type": "code",
   "execution_count": 10,
   "id": "e8ea8036",
   "metadata": {},
   "outputs": [
    {
     "data": {
      "text/plain": [
       "'/usr/share/fonts/truetype/nanum/NanumBarunGothic.ttf'"
      ]
     },
     "execution_count": 10,
     "metadata": {},
     "output_type": "execute_result"
    }
   ],
   "source": [
    "import matplotlib as mpl\n",
    "import matplotlib.ticker as ticker\n",
    "import matplotlib.pyplot as plt\n",
    "import matplotlib.font_manager as fm\n",
    "\n",
    "%config InlineBackend.figure_format = 'retina'\n",
    " \n",
    "fontpath = '/usr/share/fonts/truetype/nanum/NanumBarunGothic.ttf'\n",
    "font = fm.FontProperties(fname=fontpath, size=9)\n",
    "plt.rc('font', family='NanumBarunGothic') \n",
    "mpl.font_manager.findfont(font)"
   ]
  },
  {
   "cell_type": "code",
   "execution_count": 21,
   "id": "6b606b16",
   "metadata": {},
   "outputs": [
    {
     "name": "stdout",
     "output_type": "stream",
     "text": [
      "협박           896\n",
      "갈취           981\n",
      "직장 내 괴롭힘     979\n",
      "기타 괴롭힘      1094\n",
      "Name: idx, dtype: int64\n"
     ]
    },
    {
     "data": {
      "image/png": "[encoded data removed]",
      "text/plain": [
       "<Figure size 432x288 with 1 Axes>"
      ]
     },
     "metadata": {
      "image/png": {
       "height": 281,
       "width": 424
      },
      "needs_background": "light"
     },
     "output_type": "display_data"
    }
   ],
   "source": [
    "group_count = df.groupby(\"label\").count().iloc[:,0]\n",
    "group_count.index = ['협박', '갈취', '직장 내 괴롭힘',  '기타 괴롭힘']\n",
    "\n",
    "print(group_count)\n",
    "\n",
    "group_count.plot(kind=\"bar\")\n",
    "plt.xticks(rotation = 360)\n",
    "plt.tight_layout()\n",
    "plt.show()"
   ]
  },
  {
   "cell_type": "code",
   "execution_count": 13,
   "id": "da85b146",
   "metadata": {},
   "outputs": [],
   "source": [
    "import pandas as pd\n",
    "from sklearn.model_selection import train_test_split\n",
    "from collections import Counter\n",
    "\n",
    "class DataLoad():\n",
    "\n",
    "\n",
    "  def __init__(self, data_path):\n",
    "    self.dataset = pd.read_csv(data_path)\n",
    "\n",
    "\n",
    "  def split(self, split_size):\n",
    "    X = self.dataset[\"conversation\"]\n",
    "    Y = self.dataset[\"class\"]\n",
    "    print(self.dataset.groupby(\"class\").count().iloc[:,0])\n",
    "    print(self.dataset.head())\n",
    "    # 전체 데이터의 split_size 비율 만큼은 테스트, 검증 데이터입니다.\n",
    "    x_train, x_val_test, y_train, y_val_test = train_test_split(X, Y, \n",
    "                                                            test_size = split_size, \n",
    "                                                            random_state = 200,\n",
    "                                                            stratify = Y)\n",
    "    # 테스트, 검증 데이터의 개수는 1:1의 비율을 가집니다.\n",
    "    x_val, x_test, y_val, y_test = train_test_split(x_val_test, y_val_test,\n",
    "                                                test_size = 0.5,\n",
    "                                                random_state = 202,\n",
    "                                                stratify = y_val_test)\n",
    "    print(f\"x_train 개수 : {len(x_train)}\")\n",
    "    print(f\"y_train 개수 : {len(y_train)}\")\n",
    "    print(f\"x_val 개수 : {len(x_val)}\")\n",
    "    print(f\"y_val 개수 : {len(y_val)}\")\n",
    "    print(f\"x_test 개수 : {len(x_test)}\")\n",
    "    print(f\"y_test 개수 : {len(y_test)}\")\n",
    "    print(f\"훈련 데이터 레이블 비율 확인 : {Counter(y_train)}\")\n",
    "    print(f\"검증 데이터 레이블 비율 확인 : {Counter(y_val)}\")\n",
    "    print(f\"테스트 데이터 레이블 비율 확인 : {Counter(y_test)}\")\n",
    "    return x_train.tolist(), x_val.tolist(), x_test.tolist(), y_train.tolist(), y_val.tolist(), y_test.tolist()"
   ]
  },
  {
   "cell_type": "code",
   "execution_count": 15,
   "id": "119cee6e",
   "metadata": {},
   "outputs": [],
   "source": [
    "import random\n",
    "import gensim\n",
    "from konlpy.tag import Mecab\n",
    "from tqdm import tqdm\n",
    "\n",
    "class DataAugmentation:\n",
    "\n",
    "\n",
    "  def __init__(self, X, Y, word2vec_path):\n",
    "    self.mecab = Mecab()\n",
    "    self.word2vec = gensim.models.Word2Vec.load(word2vec_path)\n",
    "    self.X = X\n",
    "    self.Y = Y\n",
    "  \n",
    "  def sub_rep(self, X, sub_ratio = 0.1):\n",
    "    # 전체 단어중에서 sub_ratio 만큼만 무작위 선택합니다.\n",
    "    nouns = list(set(self.mecab.morphs(X)))\n",
    "    sub_num = int(len(nouns) * sub_ratio)\n",
    "    sub_list = random.sample(nouns, sub_num)\n",
    "\n",
    "    # 대체 시킬 단어와 유사한 단어들을 불러옵니다.\n",
    "    result = []\n",
    "    for sub in sub_list:\n",
    "      try:\n",
    "        result.append((sub, self.word2vec.wv.most_similar(sub)[0]))\n",
    "      except KeyError:\n",
    "        pass\n",
    "    result = list(map(lambda x: (x[0], x[1][0]), result))\n",
    "\n",
    "    # 무작위 선택된 단어들을 유사한 단어들로 바꿔줍니다.\n",
    "    for before, after in result:\n",
    "      X = X.replace(before, after, 1)\n",
    "    return X\n",
    "\n",
    "  def sub_rep_dataset(self, sub_ratio = 0.1):\n",
    "    # 입력 X에 sub_rep 함수 적용합니다.\n",
    "    new_x = list(tqdm(map(lambda x: self.sub_rep(x, sub_ratio), self.X)))\n",
    "    # 입력 Y의 값을 복사합니다.\n",
    "    new_y = self.Y.copy()\n",
    "\n",
    "    print(\"훈련 데이터 유의어 대체 증강 완료\")\n",
    "    print(f\"증강시킨 데이터 개수 : {len(new_x)}\")\n",
    "    print(f\"----데이터 증강 전 데이터 예시 ----\\n{self.X[0]}\")\n",
    "    print(f\"----데이터 증강 후 데이터 예시 ----\\n{new_x[0]}\")\n",
    "    return new_x, new_y\n",
    "\n",
    "  def label_repeat(self, label_id, num = 1):\n",
    "    # 특정 레이블 label_id를 num 횟수 만큼 반복\n",
    "    new_x = []\n",
    "    new_y = []\n",
    "    for i in range(num):\n",
    "      label_index = (np.array(self.Y) == label_id)\n",
    "      new_x += np.array(self.X)[label_index].tolist()\n",
    "      new_y += np.array(self.Y)[label_index].tolist()\n",
    "    \n",
    "    print(\"훈련 데이터 특정 레이블 반복 증강 완료\")\n",
    "    print(f\"반복되는 레이블 id : {label_id}\")\n",
    "    print(f\"반복된 횟수 : {num}\")\n",
    "    return new_x, new_y"
   ]
  },
  {
   "cell_type": "code",
   "execution_count": 16,
   "id": "ba4d0829",
   "metadata": {},
   "outputs": [],
   "source": [
    "def id2label(x):\n",
    "  # id에 맞는 실제 클래스로 변환시킵니다.\n",
    "  if x == 0:\n",
    "    return \"협박 대화\"\n",
    "  elif x == 1:\n",
    "    return \"갈취 대화\"\n",
    "  elif x == 2:\n",
    "    return \"직장 내 괴롭힘 대화\"\n",
    "  elif x == 3:\n",
    "    return \"기타 괴롭힘 대화\"\n",
    "  elif x == 4:\n",
    "    return \"일반 대화\"\n",
    "\n",
    "\n",
    "def clf_score(y_test, y_pred):\n",
    "  # 테스트 데이터에서 오분류된 데이터들의 idx를 리스트 타입으로 반환합니다.\n",
    "  # classification report \n",
    "  false_list = [idx for idx, i in enumerate(y_test) if y_pred[idx] != i]\n",
    "  print(f\"모델이 틀린 데이터 개수 {len(false_list)}개\")\n",
    "  print(classification_report(y_test, y_pred))\n",
    "\n",
    "  # confusion matrix\n",
    "  conf_matrix = confusion_matrix(y_test, y_pred)\n",
    "  names = [\"협박\", \"갈취\", \"직장내 괴롭힘\", \"기타 괴롭힘\", \"일반\"]\n",
    "  conf_matrix = pd.DataFrame(conf_matrix, index = names, columns = names)\n",
    "  sns.heatmap(conf_matrix, annot = True, fmt = \"d\")\n",
    "  plt.title(\"Confusion Matrix\")\n",
    "  plt.xlabel(\"pred\")\n",
    "  plt.ylabel(\"true\")\n",
    "  plt.show()\n",
    "  return false_list\n",
    "\n",
    "\n",
    "def evaluate_result(score_list, x_test, y_pred, y_test):\n",
    "  # 입력, 예측값, 실제값, 레이블별 score로 이루어진 판다스 데이터셋을 반환합니다.\n",
    "  score_dataset = pd.DataFrame(score_list).add_prefix(\"label_\")\n",
    "  label_dataset = pd.DataFrame({\"x_test\":x_test, \"y_pred\":y_pred, \"y_test\":y_test})\n",
    "  test_dataset = pd.concat([label_dataset, score_dataset], axis = 1)\n",
    "  return test_dataset\n",
    "\n",
    "\n",
    "def false_case_dataset(false_list, x_test, y_test, y_pred, print_example = False):\n",
    "  # 오분류된 idx에 맞는 입력, 예측값, 실제값을 담은 리스트를 반환합니다.\n",
    "  false_x_test = [x_test[i] for i in false_list]\n",
    "  false_y_test = [y_test[i] for i in false_list]\n",
    "  false_y_pred = [y_pred[i] for i in false_list]\n",
    "\n",
    "  # 앞서 담은 리스트들을 판다스 데이터프레임 타입으로 변환시킵니다.\n",
    "  false_dataset = pd.DataFrame({\"text\":false_x_test, \"y_true\":false_y_test, \"y_pred\":false_y_pred})\n",
    "  # 숫자로된 id를 실제 레이블로 바꾸며 예시는 '0 -> 협박 대화' 입니다.\n",
    "  false_dataset[\"y_true\"] = false_dataset[\"y_true\"].apply(lambda x : id2label(x))\n",
    "  false_dataset[\"y_pred\"] = false_dataset[\"y_pred\"].apply(lambda x : id2label(x))\n",
    "\n",
    "  # 오분류 예제의 내용을 보고 싶으면 print_example argument를 True로 바꿉니다.\n",
    "  if print_example:\n",
    "    for i in range(len(false_dataset)):\n",
    "      sentence, prediction, real =false_dataset.iloc[i, :]\n",
    "      print(f\"예측 분류 : {prediction}\")\n",
    "      print(f\"실제 분류 : {real}\")\n",
    "      print(sentence)\n",
    "      print(\"\\n\")\n",
    "  return false_dataset  \n",
    "\n",
    "\n",
    "def save_csv(df, path, name):\n",
    "  try:\n",
    "    os.mkdir(path)\n",
    "  except:\n",
    "    pass\n",
    "  new_path = os.path.join(path, name)\n",
    "  df.to_csv(new_path)\n",
    "\n",
    "\n",
    "def scheduler(epoch, lr):\n",
    "  if epoch < 1:\n",
    "    return lr\n",
    "  else:\n",
    "    return lr * 0.2"
   ]
  },
  {
   "cell_type": "code",
   "execution_count": null,
   "id": "ad576b09",
   "metadata": {},
   "outputs": [],
   "source": []
  }
 ],
 "metadata": {
  "kernelspec": {
   "display_name": "Python 3 (ipykernel)",
   "language": "python",
   "name": "python3"
  },
  "language_info": {
   "codemirror_mode": {
    "name": "ipython",
    "version": 3
   },
   "file_extension": ".py",
   "mimetype": "text/x-python",
   "name": "python",
   "nbconvert_exporter": "python",
   "pygments_lexer": "ipython3",
   "version": "3.9.7"
  }
 },
 "nbformat": 4,
 "nbformat_minor": 5
}
