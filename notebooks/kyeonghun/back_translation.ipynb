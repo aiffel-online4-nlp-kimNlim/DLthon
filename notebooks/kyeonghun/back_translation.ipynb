{
 "cells": [
  {
   "cell_type": "code",
   "execution_count": 2,
   "id": "5fecb82b",
   "metadata": {},
   "outputs": [
    {
     "data": {
      "text/html": [
       "<div>\n",
       "<style scoped>\n",
       "    .dataframe tbody tr th:only-of-type {\n",
       "        vertical-align: middle;\n",
       "    }\n",
       "\n",
       "    .dataframe tbody tr th {\n",
       "        vertical-align: top;\n",
       "    }\n",
       "\n",
       "    .dataframe thead th {\n",
       "        text-align: right;\n",
       "    }\n",
       "</style>\n",
       "<table border=\"1\" class=\"dataframe\">\n",
       "  <thead>\n",
       "    <tr style=\"text-align: right;\">\n",
       "      <th></th>\n",
       "      <th>data</th>\n",
       "      <th>label</th>\n",
       "    </tr>\n",
       "  </thead>\n",
       "  <tbody>\n",
       "    <tr>\n",
       "      <th>0</th>\n",
       "      <td>지금 너 스스로를 죽여달라고 애원하는 것인가 ? 아닙니다 . 죄송합니다 . 죽을 거...</td>\n",
       "      <td>0</td>\n",
       "    </tr>\n",
       "    <tr>\n",
       "      <th>1</th>\n",
       "      <td>길동경찰서입니다 . 시 분 마트에 폭발물을 설치할거다 . 네 ? 똑바로 들어 한번만...</td>\n",
       "      <td>0</td>\n",
       "    </tr>\n",
       "    <tr>\n",
       "      <th>2</th>\n",
       "      <td>너 되게 귀여운거 알지 ? 나보다 작은 남자는 첨봤어 . 그만해 . 니들 놀리는거 ...</td>\n",
       "      <td>3</td>\n",
       "    </tr>\n",
       "    <tr>\n",
       "      <th>3</th>\n",
       "      <td>어이 거기 예 ? ? 너 말이야 너 . 이리 오라고 무슨 일 . 너 옷 좋아보인다 ...</td>\n",
       "      <td>1</td>\n",
       "    </tr>\n",
       "    <tr>\n",
       "      <th>4</th>\n",
       "      <td>저기요 혹시 날이 너무 뜨겁잖아요 ? 저희 회사에서 이 선크림 파는데 한 번 손등에...</td>\n",
       "      <td>1</td>\n",
       "    </tr>\n",
       "  </tbody>\n",
       "</table>\n",
       "</div>"
      ],
      "text/plain": [
       "                                                data  label\n",
       "0  지금 너 스스로를 죽여달라고 애원하는 것인가 ? 아닙니다 . 죄송합니다 . 죽을 거...      0\n",
       "1  길동경찰서입니다 . 시 분 마트에 폭발물을 설치할거다 . 네 ? 똑바로 들어 한번만...      0\n",
       "2  너 되게 귀여운거 알지 ? 나보다 작은 남자는 첨봤어 . 그만해 . 니들 놀리는거 ...      3\n",
       "3  어이 거기 예 ? ? 너 말이야 너 . 이리 오라고 무슨 일 . 너 옷 좋아보인다 ...      1\n",
       "4  저기요 혹시 날이 너무 뜨겁잖아요 ? 저희 회사에서 이 선크림 파는데 한 번 손등에...      1"
      ]
     },
     "execution_count": 2,
     "metadata": {},
     "output_type": "execute_result"
    }
   ],
   "source": [
    "import pandas as pd\n",
    "\n",
    "df = pd.read_csv('../../data/preprocessed_train.csv')\n",
    "df = df[['data', 'label']]\n",
    "\n",
    "df.head()"
   ]
  },
  {
   "cell_type": "code",
   "execution_count": 42,
   "id": "18842b74",
   "metadata": {},
   "outputs": [
    {
     "name": "stdout",
     "output_type": "stream",
     "text": [
      "Collecting deep-translator\n",
      "  Downloading deep_translator-1.11.4-py3-none-any.whl (42 kB)\n",
      "     |████████████████████████████████| 42 kB 1.4 MB/s             \n",
      "\u001b[?25hCollecting beautifulsoup4<5.0.0,>=4.9.1\n",
      "  Downloading beautifulsoup4-4.12.2-py3-none-any.whl (142 kB)\n",
      "     |████████████████████████████████| 142 kB 12.4 MB/s            \n",
      "\u001b[?25hRequirement already satisfied: requests<3.0.0,>=2.23.0 in /opt/conda/lib/python3.9/site-packages (from deep-translator) (2.26.0)\n",
      "Requirement already satisfied: soupsieve>1.2 in /opt/conda/lib/python3.9/site-packages (from beautifulsoup4<5.0.0,>=4.9.1->deep-translator) (2.3.1)\n",
      "Requirement already satisfied: idna<4,>=2.5 in /opt/conda/lib/python3.9/site-packages (from requests<3.0.0,>=2.23.0->deep-translator) (2.10)\n",
      "Requirement already satisfied: certifi>=2017.4.17 in /opt/conda/lib/python3.9/site-packages (from requests<3.0.0,>=2.23.0->deep-translator) (2021.10.8)\n",
      "Requirement already satisfied: charset-normalizer~=2.0.0 in /opt/conda/lib/python3.9/site-packages (from requests<3.0.0,>=2.23.0->deep-translator) (2.0.8)\n",
      "Requirement already satisfied: urllib3<1.27,>=1.21.1 in /opt/conda/lib/python3.9/site-packages (from requests<3.0.0,>=2.23.0->deep-translator) (1.26.7)\n",
      "Installing collected packages: beautifulsoup4, deep-translator\n",
      "  Attempting uninstall: beautifulsoup4\n",
      "    Found existing installation: beautifulsoup4 4.6.0\n",
      "    Uninstalling beautifulsoup4-4.6.0:\n",
      "      Successfully uninstalled beautifulsoup4-4.6.0\n",
      "\u001b[31mERROR: pip's dependency resolver does not currently take into account all the packages that are installed. This behaviour is the source of the following dependency conflicts.\n",
      "konlpy 0.5.2 requires beautifulsoup4==4.6.0, but you have beautifulsoup4 4.12.2 which is incompatible.\u001b[0m\n",
      "Successfully installed beautifulsoup4-4.12.2 deep-translator-1.11.4\n",
      "\u001b[33mWARNING: Running pip as the 'root' user can result in broken permissions and conflicting behaviour with the system package manager. It is recommended to use a virtual environment instead: https://pip.pypa.io/warnings/venv\u001b[0m\n"
     ]
    }
   ],
   "source": [
    "!pip install -U deep-translator"
   ]
  },
  {
   "cell_type": "code",
   "execution_count": 43,
   "id": "64d076b9",
   "metadata": {},
   "outputs": [
    {
     "data": {
      "text/plain": [
       "'hello'"
      ]
     },
     "execution_count": 43,
     "metadata": {},
     "output_type": "execute_result"
    }
   ],
   "source": [
    "from deep_translator import GoogleTranslator\n",
    "\n",
    "GoogleTranslator(source='auto', target='en').translate(\"안녕하세요\") "
   ]
  },
  {
   "cell_type": "code",
   "execution_count": 49,
   "id": "52d3f41f",
   "metadata": {},
   "outputs": [
    {
     "data": {
      "text/plain": [
       "'こんにちは'"
      ]
     },
     "execution_count": 49,
     "metadata": {},
     "output_type": "execute_result"
    }
   ],
   "source": [
    "GoogleTranslator(source='auto', target='ja').translate(\"안녕하세요\") "
   ]
  },
  {
   "cell_type": "code",
   "execution_count": 44,
   "id": "c5a08e8c",
   "metadata": {},
   "outputs": [],
   "source": [
    "from deep_translator import GoogleTranslator\n",
    "\n",
    "def translate(sentence, _type='en'):\n",
    "    temp = GoogleTranslator(source='auto', target=_type).translate(sentence)\n",
    "    return GoogleTranslator(source='auto', target='ko').translate(temp)"
   ]
  },
  {
   "cell_type": "code",
   "execution_count": 8,
   "id": "cc8c43e5",
   "metadata": {},
   "outputs": [
    {
     "data": {
      "text/plain": [
       "'지금 너 스스로를 죽여달라고 애원하는 것인가 ? 아닙니다 . 죄송합니다 . 죽을 거면 혼자 죽지 우리까지 사건에 휘말리게 해 ? 진짜 죽여버리고 싶게 . 정말 잘못했습니다 . 너가 선택해 . 너가 죽을래 네 가족을 죽여줄까 . 죄송합니다 . 정말 잘못했습니다 . 너에게는 선택권이 없어 . 선택 못한다면 너와 네 가족까지 모조리 죽여버릴거야 . 선택 못하겠습니다 . 한번만 도와주세요 . 그냥 다 죽여버려야겠군 . 이의 없지 ? 제발 도와주세요 .'"
      ]
     },
     "execution_count": 8,
     "metadata": {},
     "output_type": "execute_result"
    }
   ],
   "source": [
    "df['data'][0]"
   ]
  },
  {
   "cell_type": "code",
   "execution_count": 45,
   "id": "13439a5a",
   "metadata": {},
   "outputs": [
    {
     "data": {
      "text/plain": [
       "'안녕하세요'"
      ]
     },
     "execution_count": 45,
     "metadata": {},
     "output_type": "execute_result"
    }
   ],
   "source": [
    "translate('안녕하세요')"
   ]
  },
  {
   "cell_type": "code",
   "execution_count": 46,
   "id": "fa25803e",
   "metadata": {},
   "outputs": [
    {
     "data": {
      "text/plain": [
       "\"지금 죽여달라고 애원하는거야? 아니요 . 죄송합니다 . 죽으려면 혼자 죽으면 된다. 우리도 사건에 휘말리게 할까요? 난 정말 당신을 죽이고 싶어요. 나는 정말로 틀렸다. 당신은 당신이 죽을 것인가, 당신의 가족을 죽일 것인가? 죄송합니다 . 나는 정말로 틀렸다. you don't have a choice 선택하지 않으면 너와 네 가족을 모두 죽이겠다. 고를 수가 없네요 한번만 도와주세요. 모두 죽여야만 합니다. 이의가 없습니까? 도와주세요 .\""
      ]
     },
     "execution_count": 46,
     "metadata": {},
     "output_type": "execute_result"
    }
   ],
   "source": [
    "translate(df['data'][0])"
   ]
  },
  {
   "cell_type": "code",
   "execution_count": 47,
   "id": "329c7d42",
   "metadata": {},
   "outputs": [
    {
     "data": {
      "text/html": [
       "<div>\n",
       "<style scoped>\n",
       "    .dataframe tbody tr th:only-of-type {\n",
       "        vertical-align: middle;\n",
       "    }\n",
       "\n",
       "    .dataframe tbody tr th {\n",
       "        vertical-align: top;\n",
       "    }\n",
       "\n",
       "    .dataframe thead th {\n",
       "        text-align: right;\n",
       "    }\n",
       "</style>\n",
       "<table border=\"1\" class=\"dataframe\">\n",
       "  <thead>\n",
       "    <tr style=\"text-align: right;\">\n",
       "      <th></th>\n",
       "      <th>data</th>\n",
       "      <th>label</th>\n",
       "    </tr>\n",
       "  </thead>\n",
       "  <tbody>\n",
       "    <tr>\n",
       "      <th>0</th>\n",
       "      <td>지금 죽여달라고 애원하는거야? 아니요 . 죄송합니다 . 죽으려면 혼자 죽으면 된다....</td>\n",
       "      <td>0</td>\n",
       "    </tr>\n",
       "    <tr>\n",
       "      <th>1</th>\n",
       "      <td>길동경찰서. Hour Boon Mart에 폭발물을 설치하려고 합니다. 예 ? 똑바로...</td>\n",
       "      <td>0</td>\n",
       "    </tr>\n",
       "    <tr>\n",
       "      <th>2</th>\n",
       "      <td>당신이 너무 귀여운 거 알아 나보다 작은 사람을 본 적이 없어. 멈추다 . 너희들을...</td>\n",
       "      <td>3</td>\n",
       "    </tr>\n",
       "    <tr>\n",
       "      <th>3</th>\n",
       "      <td>이봐 거기 그래? ? 당신 을 의미 합니까 당신 이 무슨 말씀 이세요 ? 당신은 옷...</td>\n",
       "      <td>1</td>\n",
       "    </tr>\n",
       "    <tr>\n",
       "      <th>4</th>\n",
       "      <td>야, 혹시 너무 덥지? 우리 회사는 이 자외선 차단제를 판매합니다. 손등에 사용해 ...</td>\n",
       "      <td>1</td>\n",
       "    </tr>\n",
       "  </tbody>\n",
       "</table>\n",
       "</div>"
      ],
      "text/plain": [
       "                                                data  label\n",
       "0  지금 죽여달라고 애원하는거야? 아니요 . 죄송합니다 . 죽으려면 혼자 죽으면 된다....      0\n",
       "1  길동경찰서. Hour Boon Mart에 폭발물을 설치하려고 합니다. 예 ? 똑바로...      0\n",
       "2  당신이 너무 귀여운 거 알아 나보다 작은 사람을 본 적이 없어. 멈추다 . 너희들을...      3\n",
       "3  이봐 거기 그래? ? 당신 을 의미 합니까 당신 이 무슨 말씀 이세요 ? 당신은 옷...      1\n",
       "4  야, 혹시 너무 덥지? 우리 회사는 이 자외선 차단제를 판매합니다. 손등에 사용해 ...      1"
      ]
     },
     "execution_count": 47,
     "metadata": {},
     "output_type": "execute_result"
    }
   ],
   "source": [
    "en_df = df\n",
    "en_df['data'] = en_df['data'].apply(lambda it: translate(it, _type='en'))\n",
    "\n",
    "en_df.head()"
   ]
  },
  {
   "cell_type": "code",
   "execution_count": 48,
   "id": "a1a84aa4",
   "metadata": {},
   "outputs": [],
   "source": [
    "en_df.to_csv('../../data/train_bt_en.csv')"
   ]
  },
  {
   "cell_type": "code",
   "execution_count": 50,
   "id": "95107722",
   "metadata": {},
   "outputs": [
    {
     "data": {
      "text/html": [
       "<div>\n",
       "<style scoped>\n",
       "    .dataframe tbody tr th:only-of-type {\n",
       "        vertical-align: middle;\n",
       "    }\n",
       "\n",
       "    .dataframe tbody tr th {\n",
       "        vertical-align: top;\n",
       "    }\n",
       "\n",
       "    .dataframe thead th {\n",
       "        text-align: right;\n",
       "    }\n",
       "</style>\n",
       "<table border=\"1\" class=\"dataframe\">\n",
       "  <thead>\n",
       "    <tr style=\"text-align: right;\">\n",
       "      <th></th>\n",
       "      <th>data</th>\n",
       "      <th>label</th>\n",
       "    </tr>\n",
       "  </thead>\n",
       "  <tbody>\n",
       "    <tr>\n",
       "      <th>0</th>\n",
       "      <td>지금 죽여달라고 간청하는 거야? 아니. 죄송합니다. 죽기 위해서는 혼자 죽으면 좋다...</td>\n",
       "      <td>0</td>\n",
       "    </tr>\n",
       "    <tr>\n",
       "      <th>1</th>\n",
       "      <td>요시토 경찰서. Hour Boon Mart에 폭발물을 설치하려고합니다. 예? 똑바로...</td>\n",
       "      <td>0</td>\n",
       "    </tr>\n",
       "    <tr>\n",
       "      <th>2</th>\n",
       "      <td>너는 너무 귀엽다는 것을 아는 나보다 작은 사람을 본 적이 없다. 중지합니다. 당신...</td>\n",
       "      <td>3</td>\n",
       "    </tr>\n",
       "    <tr>\n",
       "      <th>3</th>\n",
       "      <td>이봐, 거기? ? 무슨 뜻입니까? 당신은 옷을 좋아합니까, 그는 조금 돈이 필요합니...</td>\n",
       "      <td>1</td>\n",
       "    </tr>\n",
       "    <tr>\n",
       "      <th>4</th>\n",
       "      <td>그래, 너 너무 덥지? 우리의 회사는 이 자외선 차단제를 판매합니다. 손등에 사용해...</td>\n",
       "      <td>1</td>\n",
       "    </tr>\n",
       "  </tbody>\n",
       "</table>\n",
       "</div>"
      ],
      "text/plain": [
       "                                                data  label\n",
       "0  지금 죽여달라고 간청하는 거야? 아니. 죄송합니다. 죽기 위해서는 혼자 죽으면 좋다...      0\n",
       "1  요시토 경찰서. Hour Boon Mart에 폭발물을 설치하려고합니다. 예? 똑바로...      0\n",
       "2  너는 너무 귀엽다는 것을 아는 나보다 작은 사람을 본 적이 없다. 중지합니다. 당신...      3\n",
       "3  이봐, 거기? ? 무슨 뜻입니까? 당신은 옷을 좋아합니까, 그는 조금 돈이 필요합니...      1\n",
       "4  그래, 너 너무 덥지? 우리의 회사는 이 자외선 차단제를 판매합니다. 손등에 사용해...      1"
      ]
     },
     "execution_count": 50,
     "metadata": {},
     "output_type": "execute_result"
    }
   ],
   "source": [
    "ja_df = df\n",
    "ja_df['data'] = ja_df['data'].apply(lambda it: translate(it, _type='ja'))\n",
    "\n",
    "ja_df.head()"
   ]
  },
  {
   "cell_type": "code",
   "execution_count": 51,
   "id": "a2a85f79",
   "metadata": {},
   "outputs": [],
   "source": [
    "ja_df.to_csv('../../data/train_bt_ja.csv')"
   ]
  },
  {
   "cell_type": "code",
   "execution_count": 52,
   "id": "2bfb8cce",
   "metadata": {},
   "outputs": [
    {
     "data": {
      "text/plain": [
       "(3950, 3950)"
      ]
     },
     "execution_count": 52,
     "metadata": {},
     "output_type": "execute_result"
    }
   ],
   "source": [
    "en = pd.read_csv('../../data/train_bt_en.csv')\n",
    "ja = pd.read_csv('../../data/train_bt_ja.csv')\n",
    "\n",
    "len(en), len(ja)"
   ]
  },
  {
   "cell_type": "code",
   "execution_count": 53,
   "id": "88d84873",
   "metadata": {},
   "outputs": [
    {
     "data": {
      "text/plain": [
       "7900"
      ]
     },
     "execution_count": 53,
     "metadata": {},
     "output_type": "execute_result"
    }
   ],
   "source": [
    "df = pd.concat([en, ja])\n",
    "\n",
    "len(df)"
   ]
  },
  {
   "cell_type": "code",
   "execution_count": 54,
   "id": "428410e8",
   "metadata": {},
   "outputs": [
    {
     "data": {
      "text/plain": [
       "7686"
      ]
     },
     "execution_count": 54,
     "metadata": {},
     "output_type": "execute_result"
    }
   ],
   "source": [
    "df.drop_duplicates(subset=\"data\", inplace=True)\n",
    "\n",
    "len(df)"
   ]
  }
 ],
 "metadata": {
  "kernelspec": {
   "display_name": "Python 3 (ipykernel)",
   "language": "python",
   "name": "python3"
  },
  "language_info": {
   "codemirror_mode": {
    "name": "ipython",
    "version": 3
   },
   "file_extension": ".py",
   "mimetype": "text/x-python",
   "name": "python",
   "nbconvert_exporter": "python",
   "pygments_lexer": "ipython3",
   "version": "3.9.7"
  }
 },
 "nbformat": 4,
 "nbformat_minor": 5
}
