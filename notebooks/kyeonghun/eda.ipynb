{
 "cells": [
  {
   "cell_type": "code",
   "execution_count": 1,
   "id": "e780adc2",
   "metadata": {},
   "outputs": [
    {
     "data": {
      "text/plain": [
       "5059"
      ]
     },
     "execution_count": 1,
     "metadata": {},
     "output_type": "execute_result"
    }
   ],
   "source": [
    "import pickle\n",
    "\n",
    "wordnet = {}\n",
    "with open('../../data/wordnet.pickle', 'rb') as f:\n",
    "    wordnet = pickle.load(f)\n",
    "    \n",
    "len(wordnet)"
   ]
  },
  {
   "cell_type": "code",
   "execution_count": 4,
   "id": "1ceca072",
   "metadata": {},
   "outputs": [
    {
     "data": {
      "text/html": [
       "<div>\n",
       "<style scoped>\n",
       "    .dataframe tbody tr th:only-of-type {\n",
       "        vertical-align: middle;\n",
       "    }\n",
       "\n",
       "    .dataframe tbody tr th {\n",
       "        vertical-align: top;\n",
       "    }\n",
       "\n",
       "    .dataframe thead th {\n",
       "        text-align: right;\n",
       "    }\n",
       "</style>\n",
       "<table border=\"1\" class=\"dataframe\">\n",
       "  <thead>\n",
       "    <tr style=\"text-align: right;\">\n",
       "      <th></th>\n",
       "      <th>data</th>\n",
       "      <th>label</th>\n",
       "    </tr>\n",
       "  </thead>\n",
       "  <tbody>\n",
       "    <tr>\n",
       "      <th>0</th>\n",
       "      <td>지금 너 스스로를 죽여달라고 애원하는 것인가 ? 아닙니다 . 죄송합니다 . 죽을 거...</td>\n",
       "      <td>0</td>\n",
       "    </tr>\n",
       "    <tr>\n",
       "      <th>1</th>\n",
       "      <td>길동경찰서입니다 . 시 분 마트에 폭발물을 설치할거다 . 네 ? 똑바로 들어 한번만...</td>\n",
       "      <td>0</td>\n",
       "    </tr>\n",
       "    <tr>\n",
       "      <th>2</th>\n",
       "      <td>너 되게 귀여운거 알지 ? 나보다 작은 남자는 첨봤어 . 그만해 . 니들 놀리는거 ...</td>\n",
       "      <td>3</td>\n",
       "    </tr>\n",
       "    <tr>\n",
       "      <th>3</th>\n",
       "      <td>어이 거기 예 ? ? 너 말이야 너 . 이리 오라고 무슨 일 . 너 옷 좋아보인다 ...</td>\n",
       "      <td>1</td>\n",
       "    </tr>\n",
       "    <tr>\n",
       "      <th>4</th>\n",
       "      <td>저기요 혹시 날이 너무 뜨겁잖아요 ? 저희 회사에서 이 선크림 파는데 한 번 손등에...</td>\n",
       "      <td>1</td>\n",
       "    </tr>\n",
       "  </tbody>\n",
       "</table>\n",
       "</div>"
      ],
      "text/plain": [
       "                                                data  label\n",
       "0  지금 너 스스로를 죽여달라고 애원하는 것인가 ? 아닙니다 . 죄송합니다 . 죽을 거...      0\n",
       "1  길동경찰서입니다 . 시 분 마트에 폭발물을 설치할거다 . 네 ? 똑바로 들어 한번만...      0\n",
       "2  너 되게 귀여운거 알지 ? 나보다 작은 남자는 첨봤어 . 그만해 . 니들 놀리는거 ...      3\n",
       "3  어이 거기 예 ? ? 너 말이야 너 . 이리 오라고 무슨 일 . 너 옷 좋아보인다 ...      1\n",
       "4  저기요 혹시 날이 너무 뜨겁잖아요 ? 저희 회사에서 이 선크림 파는데 한 번 손등에...      1"
      ]
     },
     "execution_count": 4,
     "metadata": {},
     "output_type": "execute_result"
    }
   ],
   "source": [
    "import pandas as pd\n",
    "\n",
    "df = pd.read_csv('../../data/preprocessed_train.csv')\n",
    "df = df[['data', 'label']]\n",
    "\n",
    "df.head()"
   ]
  },
  {
   "cell_type": "code",
   "execution_count": 5,
   "id": "d6d67fed",
   "metadata": {},
   "outputs": [],
   "source": [
    "import random\n",
    "\n",
    "\n",
    "def random_swap(words, n):\n",
    "    new_words = words.copy()\n",
    "    for _ in range(n):\n",
    "        new_words = swap_word(new_words)\n",
    "\n",
    "    return new_words\n",
    "\n",
    "\n",
    "def swap_word(new_words):\n",
    "    random_idx_1 = random.randint(0, len(new_words)-1)\n",
    "    random_idx_2 = random_idx_1\n",
    "    counter = 0\n",
    "\n",
    "    while random_idx_2 == random_idx_1:\n",
    "        random_idx_2 = random.randint(0, len(new_words)-1)\n",
    "        counter += 1\n",
    "        if counter > 3:\n",
    "            return new_words\n",
    "\n",
    "    new_words[random_idx_1], new_words[random_idx_2] = new_words[random_idx_2], new_words[random_idx_1]\n",
    "    return new_words\n",
    "\n",
    "\n",
    "def random_deletion(words, p):\n",
    "    if len(words) == 1:\n",
    "        return words\n",
    "\n",
    "    new_words = []\n",
    "    for word in words:\n",
    "        r = random.uniform(0, 1)\n",
    "        if r > p:\n",
    "            new_words.append(word)\n",
    "\n",
    "    if len(new_words) == 0:\n",
    "        rand_int = random.randint(0, len(words)-1)\n",
    "        return [words[rand_int]]\n",
    "\n",
    "    return new_words"
   ]
  },
  {
   "cell_type": "code",
   "execution_count": 8,
   "id": "7ced3c56",
   "metadata": {},
   "outputs": [],
   "source": [
    "def EDA(sentence, _type='rs', alpha=0.1, num_aug=9):\n",
    "    words = sentence.split(' ')\n",
    "    words = [word for word in words if word != '']\n",
    "    num_words = len(words)\n",
    "\n",
    "    augmented_sentences = []\n",
    "    num_new_per_technique = int(num_aug / 4) + 1\n",
    "    \n",
    "    if _type == 'rs':\n",
    "        n_rs = max(1, int(alpha * num_words))\n",
    "        \n",
    "        for _ in range(num_new_per_technique):\n",
    "            a_words = random_swap(words, n_rs)\n",
    "            augmented_sentences.append(' '.join(a_words))\n",
    "            \n",
    "    else:\n",
    "        for _ in range(num_new_per_technique):\n",
    "            a_words = random_deletion(words, alpha)\n",
    "            augmented_sentences.append(' '.join(a_words))\n",
    "            \n",
    "    augmented_sentences = [sentence for sentence in augmented_sentences]\n",
    "    random.shuffle(augmented_sentences)\n",
    "    \n",
    "    if num_aug >= 1:\n",
    "        augmented_sentences = augmented_sentences[:num_aug]\n",
    "    else:\n",
    "        keep_prob = num_aug / len(augmented_sentences)\n",
    "        augmented_sentences = [s for s in augmented_sentences if random.uniform(0, 1) < keep_prob]\n",
    "\n",
    "    augmented_sentences.append(sentence)\n",
    "\n",
    "    return augmented_sentences\n"
   ]
  },
  {
   "cell_type": "code",
   "execution_count": 9,
   "id": "a40c754d",
   "metadata": {},
   "outputs": [
    {
     "data": {
      "text/plain": [
       "'지금 너 스스로를 죽여달라고 애원하는 것인가 ? 아닙니다 . 죄송합니다 . 죽을 거면 혼자 죽지 우리까지 사건에 휘말리게 해 ? 진짜 죽여버리고 싶게 . 정말 잘못했습니다 . 너가 선택해 . 너가 죽을래 네 가족을 죽여줄까 . 죄송합니다 . 정말 잘못했습니다 . 너에게는 선택권이 없어 . 선택 못한다면 너와 네 가족까지 모조리 죽여버릴거야 . 선택 못하겠습니다 . 한번만 도와주세요 . 그냥 다 죽여버려야겠군 . 이의 없지 ? 제발 도와주세요 .'"
      ]
     },
     "execution_count": 9,
     "metadata": {},
     "output_type": "execute_result"
    }
   ],
   "source": [
    "df['data'][0]"
   ]
  },
  {
   "cell_type": "code",
   "execution_count": 23,
   "id": "a7df93b1",
   "metadata": {},
   "outputs": [
    {
     "data": {
      "text/html": [
       "<div>\n",
       "<style scoped>\n",
       "    .dataframe tbody tr th:only-of-type {\n",
       "        vertical-align: middle;\n",
       "    }\n",
       "\n",
       "    .dataframe tbody tr th {\n",
       "        vertical-align: top;\n",
       "    }\n",
       "\n",
       "    .dataframe thead th {\n",
       "        text-align: right;\n",
       "    }\n",
       "</style>\n",
       "<table border=\"1\" class=\"dataframe\">\n",
       "  <thead>\n",
       "    <tr style=\"text-align: right;\">\n",
       "      <th></th>\n",
       "      <th>data</th>\n",
       "      <th>label</th>\n",
       "    </tr>\n",
       "  </thead>\n",
       "  <tbody>\n",
       "    <tr>\n",
       "      <th>0</th>\n",
       "      <td>가족을 없지 지금 못한다면 애원하는 제발 ? 아닙니다 . . 싶게 죽을 ? 혼자 죽...</td>\n",
       "      <td>0</td>\n",
       "    </tr>\n",
       "    <tr>\n",
       "      <th>1</th>\n",
       "      <td>마시죠 죽는거야 시 얘기한다 업무방해죄에 폭발물을 설치할거다 장난전화 네 ? 폭발물...</td>\n",
       "      <td>0</td>\n",
       "    </tr>\n",
       "    <tr>\n",
       "      <th>2</th>\n",
       "      <td>. 되게 귀여운거 가져봐 ? 나보다 작은 남자는 너 . 저 ? 니들 놀리는거 보태준...</td>\n",
       "      <td>3</td>\n",
       "    </tr>\n",
       "    <tr>\n",
       "      <th>3</th>\n",
       "      <td>어이 거기 예 피시방 ? 너 말이야 내놔 돈 이리 무슨 너 일 . . 넌 좋아보인다...</td>\n",
       "      <td>1</td>\n",
       "    </tr>\n",
       "    <tr>\n",
       "      <th>4</th>\n",
       "      <td>안 바른거 발라 ? 뜨겁잖아요 ? 저희 ? 열심히 손등에 한 ? 번 여기 발라보실래...</td>\n",
       "      <td>1</td>\n",
       "    </tr>\n",
       "  </tbody>\n",
       "</table>\n",
       "</div>"
      ],
      "text/plain": [
       "                                                data  label\n",
       "0  가족을 없지 지금 못한다면 애원하는 제발 ? 아닙니다 . . 싶게 죽을 ? 혼자 죽...      0\n",
       "1  마시죠 죽는거야 시 얘기한다 업무방해죄에 폭발물을 설치할거다 장난전화 네 ? 폭발물...      0\n",
       "2  . 되게 귀여운거 가져봐 ? 나보다 작은 남자는 너 . 저 ? 니들 놀리는거 보태준...      3\n",
       "3  어이 거기 예 피시방 ? 너 말이야 내놔 돈 이리 무슨 너 일 . . 넌 좋아보인다...      1\n",
       "4  안 바른거 발라 ? 뜨겁잖아요 ? 저희 ? 열심히 손등에 한 ? 번 여기 발라보실래...      1"
      ]
     },
     "execution_count": 23,
     "metadata": {},
     "output_type": "execute_result"
    }
   ],
   "source": [
    "# EDA(df['data'][0], _type='rs', num_aug=1)\n",
    "\n",
    "rs_df = df\n",
    "rs_df['data'] = rs_df['data'].apply(lambda it: EDA(it, _type='rs', alpha=0.2, num_aug=1)[0])\n",
    "\n",
    "rs_df.head()"
   ]
  },
  {
   "cell_type": "code",
   "execution_count": 24,
   "id": "8565b83d",
   "metadata": {},
   "outputs": [
    {
     "data": {
      "text/plain": [
       "'가족을 없지 지금 못한다면 애원하는 제발 ? 아닙니다 . . 싶게 죽을 ? 혼자 죽지 스스로를 네 너가 해 ? 잘못했습니다 휘말리게 . 선택 정말 . 선택 너가 선택해 . 너 죽을래 사건에 우리까지 죽여줄까 . 너와 . 정말 진짜 선택권이 너에게는 . . . 없어 죽여달라고 도와주세요 . 가족까지 모조리 이의 네 . 못하겠습니다 . 죽여버릴거야 도와주세요 . 그냥 다 죽여버려야겠군 잘못했습니다 한번만 죽여버리고 거면 것인가 죄송합니다 죄송합니다'"
      ]
     },
     "execution_count": 24,
     "metadata": {},
     "output_type": "execute_result"
    }
   ],
   "source": [
    "rs_df['data'][0]"
   ]
  },
  {
   "cell_type": "code",
   "execution_count": 25,
   "id": "91f0198d",
   "metadata": {},
   "outputs": [],
   "source": [
    "rs_df.to_csv('../../data/train_rs.csv')"
   ]
  },
  {
   "cell_type": "code",
   "execution_count": 26,
   "id": "0ae344c5",
   "metadata": {},
   "outputs": [
    {
     "data": {
      "text/html": [
       "<div>\n",
       "<style scoped>\n",
       "    .dataframe tbody tr th:only-of-type {\n",
       "        vertical-align: middle;\n",
       "    }\n",
       "\n",
       "    .dataframe tbody tr th {\n",
       "        vertical-align: top;\n",
       "    }\n",
       "\n",
       "    .dataframe thead th {\n",
       "        text-align: right;\n",
       "    }\n",
       "</style>\n",
       "<table border=\"1\" class=\"dataframe\">\n",
       "  <thead>\n",
       "    <tr style=\"text-align: right;\">\n",
       "      <th></th>\n",
       "      <th>data</th>\n",
       "      <th>label</th>\n",
       "    </tr>\n",
       "  </thead>\n",
       "  <tbody>\n",
       "    <tr>\n",
       "      <th>0</th>\n",
       "      <td>가족을 못한다면 애원하는 제발 ? 아닙니다 . . ? 혼자 죽지 스스로를 네 너가 ...</td>\n",
       "      <td>0</td>\n",
       "    </tr>\n",
       "    <tr>\n",
       "      <th>1</th>\n",
       "      <td>얘기한다 업무방해죄에 폭발물을 장난전화 네 ? 폭발물 들어 . 진정하세요 한번만 길...</td>\n",
       "      <td>0</td>\n",
       "    </tr>\n",
       "    <tr>\n",
       "      <th>2</th>\n",
       "      <td>. 되게 귀여운거 ? 작은 너 저 ? 니들 놀리는거 보태준거 작은데 지영아 너가 어...</td>\n",
       "      <td>3</td>\n",
       "    </tr>\n",
       "    <tr>\n",
       "      <th>3</th>\n",
       "      <td>어이 거기 예 피시방 ? 너 말이야 내놔 돈 이리 너 일 . . 넌 좋아보인다 옷 ...</td>\n",
       "      <td>1</td>\n",
       "    </tr>\n",
       "    <tr>\n",
       "      <th>4</th>\n",
       "      <td>안 바른거 발라 ? 뜨겁잖아요 ? 저희 ? 열심히 한 ? 번 여기 발라보실래요 ? ...</td>\n",
       "      <td>1</td>\n",
       "    </tr>\n",
       "  </tbody>\n",
       "</table>\n",
       "</div>"
      ],
      "text/plain": [
       "                                                data  label\n",
       "0  가족을 못한다면 애원하는 제발 ? 아닙니다 . . ? 혼자 죽지 스스로를 네 너가 ...      0\n",
       "1  얘기한다 업무방해죄에 폭발물을 장난전화 네 ? 폭발물 들어 . 진정하세요 한번만 길...      0\n",
       "2  . 되게 귀여운거 ? 작은 너 저 ? 니들 놀리는거 보태준거 작은데 지영아 너가 어...      3\n",
       "3  어이 거기 예 피시방 ? 너 말이야 내놔 돈 이리 너 일 . . 넌 좋아보인다 옷 ...      1\n",
       "4  안 바른거 발라 ? 뜨겁잖아요 ? 저희 ? 열심히 한 ? 번 여기 발라보실래요 ? ...      1"
      ]
     },
     "execution_count": 26,
     "metadata": {},
     "output_type": "execute_result"
    }
   ],
   "source": [
    "rd_df = df\n",
    "rd_df['data'] = rd_df['data'].apply(lambda it: EDA(it, _type='rd', alpha=0.2, num_aug=1)[0])\n",
    "\n",
    "rd_df.head()"
   ]
  },
  {
   "cell_type": "code",
   "execution_count": 27,
   "id": "e8febf47",
   "metadata": {},
   "outputs": [
    {
     "data": {
      "text/plain": [
       "'가족을 못한다면 애원하는 제발 ? 아닙니다 . . ? 혼자 죽지 스스로를 네 너가 해 ? 잘못했습니다 휘말리게 . 선택 . 선택 너가 . 너 죽을래 사건에 우리까지 죽여줄까 . 너와 . 정말 선택권이 너에게는 . . 없어 죽여달라고 도와주세요 . 가족까지 모조리 이의 네 . 못하겠습니다 . 죽여버릴거야 도와주세요 . 그냥 다 죽여버려야겠군 한번만 죽여버리고 죄송합니다'"
      ]
     },
     "execution_count": 27,
     "metadata": {},
     "output_type": "execute_result"
    }
   ],
   "source": [
    "rd_df['data'][0]"
   ]
  },
  {
   "cell_type": "code",
   "execution_count": 28,
   "id": "0b30e601",
   "metadata": {},
   "outputs": [],
   "source": [
    "rd_df.to_csv('../../data/train_rd.csv')"
   ]
  }
 ],
 "metadata": {
  "kernelspec": {
   "display_name": "Python 3 (ipykernel)",
   "language": "python",
   "name": "python3"
  },
  "language_info": {
   "codemirror_mode": {
    "name": "ipython",
    "version": 3
   },
   "file_extension": ".py",
   "mimetype": "text/x-python",
   "name": "python",
   "nbconvert_exporter": "python",
   "pygments_lexer": "ipython3",
   "version": "3.9.7"
  }
 },
 "nbformat": 4,
 "nbformat_minor": 5
}
